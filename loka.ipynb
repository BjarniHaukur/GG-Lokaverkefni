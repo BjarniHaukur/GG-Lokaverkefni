{
 "cells": [
  {
   "cell_type": "markdown",
   "source": [
    "# REI505M Machine Learning - Final project\r\n",
    "### Due: --------\r\n",
    "\r\n",
    "**Names**: Axel Kristján Axelsson, Bjarni Haukur Bjarnason <br />\r\n",
    "**Email**: aka30@hi.is, bhb23@hi.is"
   ],
   "metadata": {}
  },
  {
   "cell_type": "markdown",
   "source": [
    "**1. Image classification**\r\n",
    "\r\n",
    "s\r\n"
   ],
   "metadata": {}
  },
  {
   "cell_type": "code",
   "execution_count": 1,
   "source": [
    "from DataFuncs import normalize_train_data, train_test_split\r\n",
    "normalize_train_data(\"combine\")"
   ],
   "outputs": [],
   "metadata": {}
  },
  {
   "cell_type": "code",
   "execution_count": 2,
   "source": [
    "train_test_split(0.2)"
   ],
   "outputs": [],
   "metadata": {}
  },
  {
   "cell_type": "code",
   "execution_count": null,
   "source": [
    "from PIL import Image\r\n",
    "img = Image.open(\"test.jpg\").convert('L')\r\n",
    "img = img.resize((5000,500))\r\n",
    "img.show()"
   ],
   "outputs": [],
   "metadata": {}
  }
 ],
 "metadata": {
  "kernelspec": {
   "name": "python3",
   "display_name": "Python 3.9.0 64-bit ('tf2.6.0': conda)"
  },
  "language_info": {
   "codemirror_mode": {
    "name": "ipython",
    "version": 3
   },
   "file_extension": ".py",
   "mimetype": "text/x-python",
   "name": "python",
   "nbconvert_exporter": "python",
   "pygments_lexer": "ipython3",
   "version": "3.9.0"
  },
  "interpreter": {
   "hash": "65d87dbd84d6699b6249583833f5a2128eb89a67d50c6406a8848397791798e4"
  }
 },
 "nbformat": 4,
 "nbformat_minor": 5
}