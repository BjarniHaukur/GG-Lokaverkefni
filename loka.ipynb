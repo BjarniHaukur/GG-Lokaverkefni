{
 "cells": [
  {
   "cell_type": "markdown",
   "id": "7d94db90",
   "metadata": {},
   "source": [
    "# REI505M Machine Learning - Final project\n",
    "### Due: --------\n",
    "\n",
    "**Names**: Axel Kristján Axelsson, Bjarni Haukur Bjarnason <br />\n",
    "**Email**: aka30@hi.is, bhb23@hi.is"
   ]
  },
  {
   "cell_type": "markdown",
   "id": "706ad1d8",
   "metadata": {},
   "source": [
    "**1. Image classification**\n",
    "\n",
    "s\n"
   ]
  },
  {
   "cell_type": "code",
   "execution_count": 73,
   "id": "e9288b6b",
   "metadata": {},
   "outputs": [
    {
     "name": "stdout",
     "output_type": "stream",
     "text": [
      "The autoreload extension is already loaded. To reload it, use:\n",
      "  %reload_ext autoreload\n"
     ]
    }
   ],
   "source": [
    "import numpy as np\n",
    "from sklearn.model_selection import train_test_split\n",
    "from PIL import Image\n",
    "import tensorflow as tf\n",
    "import tensorflow_io as tfio\n",
    "tf.executing_eagerly()\n",
    "\n",
    "\n",
    "from data_loader import MyDataLoader\n",
    "from neural_nets import NeuralNets\n",
    "from helper_funcs import *\n",
    "from my_dataset import parse_to_image, parse_to_array, parse_and_augment\n",
    "\n",
    "gpus = tf.config.experimental.list_physical_devices('GPU')\n",
    "for gpu in gpus:\n",
    "  tf.config.experimental.set_memory_growth(gpu, True)\n",
    "\n",
    "\n",
    "%load_ext autoreload \n",
    "%autoreload 2\n",
    "\n",
    "norm = (128,128)\n",
    "\n",
    "dl = MyDataLoader(\"combine3\", norm)\n",
    "nn = NeuralNets(norm)"
   ]
  },
  {
   "cell_type": "code",
   "execution_count": 74,
   "id": "441f8fd2",
   "metadata": {},
   "outputs": [],
   "source": [
    "def create_dataset_from_files(filenames, augment=False):\n",
    "    ds = tf.data.Dataset.from_tensor_slices(filenames)\n",
    "    ds = ds.shuffle(buffer_size=len(filenames))#.repeat(REPEAT_COUNT)\n",
    "    if augment:\n",
    "        ds = ds.map(parse_and_augment, num_parallel_calls=WORKERS)\n",
    "    else:\n",
    "        ds = ds.map(parse_to_image, num_parallel_calls=WORKERS)\n",
    "    ds = ds.repeat()\n",
    "    ds = ds.batch(BATCH_SIZE, drop_remainder=True)\n",
    "    ds = ds.prefetch(buffer_size=tf.data.AUTOTUNE)\n",
    "    return ds\n",
    "\n",
    "def create_dataset_from_array(X, y):\n",
    "    ds = tf.data.Dataset.from_tensor_slices((X, y))\n",
    "    #ds = ds.shuffle(buffer_size=X.shape[0])#.repeat(REPEAT_COUNT)\n",
    "    # ds = ds.repeat()\n",
    "    # ds = ds.batch(BATCH_SIZE, drop_remainder=True)\n",
    "    ds = ds.prefetch(buffer_size=tf.data.AUTOTUNE)\n",
    "    return ds"
   ]
  },
  {
   "cell_type": "code",
   "execution_count": 75,
   "id": "4580f68e",
   "metadata": {},
   "outputs": [],
   "source": [
    "import math\n",
    "\n",
    "# filenames = dl.get_all_filenames()\n",
    "# val_files = filenames[index_arr1]\n",
    "# train_files = np.delete(filenames, index_arr1)\n",
    "# test_files = train_files[index_arr2]\n",
    "# train_files = np.delete(train_files, index_arr2)\n",
    "# NUM_FILES = len(filenames)\n",
    "# index_arr1 = np.random.choice(NUM_FILES, VAL_SIZE)\n",
    "# index_arr2 = np.random.choice(NUM_FILES-VAL_SIZE, TEST_SIZE)\n",
    "\n",
    "train_files = dl.numpy_load(\"train_files\")\n",
    "test_files  = dl.numpy_load(\"test_files\")\n",
    "val_files   = dl.numpy_load(\"val_files\")\n",
    "\n",
    "BATCH_SIZE = 64\n",
    "WORKERS    = 16\n",
    "TEST_SIZE  = test_files.shape[0]\n",
    "VAL_SIZE   = val_files.shape[0]\n",
    "TRAIN_SIZE = train_files.shape[0]\n",
    "NUM_FILES  = TEST_SIZE + VAL_SIZE + TRAIN_SIZE\n",
    "\n",
    "\n",
    "\n",
    "\n",
    "\n",
    "\n",
    "NUM_TRAIN_STEPS = math.floor(TRAIN_SIZE/BATCH_SIZE)\n",
    "NUM_VAL_STEPS   = math.floor(VAL_SIZE/BATCH_SIZE)\n",
    "\n",
    "ds_train = create_dataset_from_files(train_files, augment=True)\n",
    "ds_val   = create_dataset_from_files(val_files, augment=True)\n",
    "ds_test  = create_dataset_from_files(test_files)\n",
    "# ds_test  = create_dataset_frofilesay(X_test, y_test)\n",
    "\n",
    "\n",
    "# ds_train = ds_train.batch(BATCH_SIZE, drop_remainder=True)\n",
    "\n",
    "# ds_train = ds_train.prefetch(PREFETCH_SIZE)\n",
    "\n",
    "# ds_val   = ds.skip(TEST_SIZE).take(VAL_SIZE)\n",
    "# ds_train = ds.skip(TEST_SIZE + VAL_SIZE)\n",
    "\n",
    "# ds_train = ds_train.batch(BATCH_SIZE)"
   ]
  },
  {
   "cell_type": "code",
   "execution_count": 76,
   "id": "018b9486",
   "metadata": {},
   "outputs": [],
   "source": [
    "def SSIMLoss(y_true, y_pred):\n",
    "  return 0.5*(1 - tf.reduce_mean(tf.image.ssim(y_true, y_pred, 1.0)))+0.5*tf.keras.metrics.mean_squared_error(y_true,y_pred)"
   ]
  },
  {
   "cell_type": "code",
   "execution_count": 78,
   "id": "1270dc3b",
   "metadata": {},
   "outputs": [
    {
     "name": "stdout",
     "output_type": "stream",
     "text": [
      "Model: \"sequential_3\"\n",
      "_________________________________________________________________\n",
      " Layer (type)                Output Shape              Param #   \n",
      "=================================================================\n",
      " conv2d_26 (Conv2D)          (None, 128, 128, 64)      640       \n",
      "                                                                 \n",
      " batch_normalization_11 (Bat  (None, 128, 128, 64)     256       \n",
      " chNormalization)                                                \n",
      "                                                                 \n",
      " conv2d_27 (Conv2D)          (None, 64, 64, 64)        36928     \n",
      "                                                                 \n",
      " batch_normalization_12 (Bat  (None, 64, 64, 64)       256       \n",
      " chNormalization)                                                \n",
      "                                                                 \n",
      " conv2d_28 (Conv2D)          (None, 64, 64, 128)       73856     \n",
      "                                                                 \n",
      " batch_normalization_13 (Bat  (None, 64, 64, 128)      512       \n",
      " chNormalization)                                                \n",
      "                                                                 \n",
      " conv2d_29 (Conv2D)          (None, 32, 32, 128)       147584    \n",
      "                                                                 \n",
      " batch_normalization_14 (Bat  (None, 32, 32, 128)      512       \n",
      " chNormalization)                                                \n",
      "                                                                 \n",
      " conv2d_30 (Conv2D)          (None, 32, 32, 256)       295168    \n",
      "                                                                 \n",
      " batch_normalization_15 (Bat  (None, 32, 32, 256)      1024      \n",
      " chNormalization)                                                \n",
      "                                                                 \n",
      " conv2d_31 (Conv2D)          (None, 16, 16, 256)       590080    \n",
      "                                                                 \n",
      " batch_normalization_16 (Bat  (None, 16, 16, 256)      1024      \n",
      " chNormalization)                                                \n",
      "                                                                 \n",
      " conv2d_32 (Conv2D)          (None, 16, 16, 512)       1180160   \n",
      "                                                                 \n",
      " batch_normalization_17 (Bat  (None, 16, 16, 512)      2048      \n",
      " chNormalization)                                                \n",
      "                                                                 \n",
      " conv2d_transpose_10 (Conv2D  (None, 32, 32, 256)      1179904   \n",
      " Transpose)                                                      \n",
      "                                                                 \n",
      " batch_normalization_18 (Bat  (None, 32, 32, 256)      1024      \n",
      " chNormalization)                                                \n",
      "                                                                 \n",
      " conv2d_transpose_11 (Conv2D  (None, 64, 64, 128)      295040    \n",
      " Transpose)                                                      \n",
      "                                                                 \n",
      " batch_normalization_19 (Bat  (None, 64, 64, 128)      512       \n",
      " chNormalization)                                                \n",
      "                                                                 \n",
      " conv2d_transpose_12 (Conv2D  (None, 128, 128, 64)     73792     \n",
      " Transpose)                                                      \n",
      "                                                                 \n",
      " batch_normalization_20 (Bat  (None, 128, 128, 64)     256       \n",
      " chNormalization)                                                \n",
      "                                                                 \n",
      " conv2d_transpose_13 (Conv2D  (None, 128, 128, 32)     18464     \n",
      " Transpose)                                                      \n",
      "                                                                 \n",
      " batch_normalization_21 (Bat  (None, 128, 128, 32)     128       \n",
      " chNormalization)                                                \n",
      "                                                                 \n",
      " conv2d_transpose_14 (Conv2D  (None, 128, 128, 2)      578       \n",
      " Transpose)                                                      \n",
      "                                                                 \n",
      "=================================================================\n",
      "Total params: 3,899,746\n",
      "Trainable params: 3,895,970\n",
      "Non-trainable params: 3,776\n",
      "_________________________________________________________________\n"
     ]
    }
   ],
   "source": [
    "model = nn.model_i()\n",
    "model.compile(optimizer='rmsprop', loss=SSIMLoss, metrics=[\"accuracy\"])\n",
    "log_dir = \"logs/fit/\" + \"model_i\"\n",
    "tensorboard_callback = tf.keras.callbacks.TensorBoard(log_dir=log_dir, histogram_freq=1)\n",
    "model.summary()"
   ]
  },
  {
   "cell_type": "code",
   "execution_count": null,
   "id": "5d7e0974",
   "metadata": {},
   "outputs": [],
   "source": [
    "from random import randint\n",
    "\n",
    "\n",
    "num_iters = 20\n",
    "\n",
    "test_images = ds_test.as_numpy_iterator().next()\n",
    "\n",
    "\n",
    "history_arr = np.ndarray(shape=(num_iters,), dtype=object)\n",
    "for i in range(num_iters):\n",
    "    history_arr[i] = model.fit(ds_train, epochs=5, steps_per_epoch=NUM_TRAIN_STEPS, validation_data=ds_val, validation_steps=NUM_VAL_STEPS, callbacks=[tensorboard_callback])\n",
    "    \n",
    "    if i%2==0:\n",
    "        save_model(model, f\"model_i_SSIM{i}\", brave=True)\n",
    "\n",
    "    img_number = randint(0, BATCH_SIZE)\n",
    "    img = np.expand_dims(test_images[0][img_number], 0)\n",
    "    pred = model.predict(img)\n",
    "    save_images(img , map_from(pred), name=\"model_i_SSIM\", enumerate=i)"
   ]
  },
  {
   "cell_type": "code",
   "execution_count": 11,
   "id": "3396aa3a",
   "metadata": {},
   "outputs": [
    {
     "name": "stdout",
     "output_type": "stream",
     "text": [
      "INFO:tensorflow:Assets written to: c:\\Skoli\\Haust2021\\Lokaverkefni\\GG-Lokaverkefni\\models\\model_h_SSIM19\\assets\n"
     ]
    }
   ],
   "source": [
    "save_model(model, \"model_h_SSIM19\")"
   ]
  },
  {
   "cell_type": "code",
   "execution_count": 12,
   "id": "794e8d87",
   "metadata": {},
   "outputs": [
    {
     "data": {
      "image/png": "[encoded data removed]",
      "text/plain": [
       "<Figure size 720x720 with 2 Axes>"
      ]
     },
     "metadata": {
      "needs_background": "light"
     },
     "output_type": "display_data"
    }
   ],
   "source": [
    "from matplotlib import pyplot as plt\n",
    "from helper_funcs import *\n",
    "\n",
    "# new_arr = np.ndarray(shape=(30,), dtype=object)\n",
    "# new_arr[:10] = history_arr\n",
    "# new_arr[10:] = history_arr2\n",
    "\n",
    "plot_acc_and_loss(history_arr, title=\"Model_h with 50% SSIM loss\", name=\"model_h_SSIM\", save=True, figsize=(10,10))\n"
   ]
  },
  {
   "cell_type": "code",
   "execution_count": 95,
   "id": "fe9e88d9",
   "metadata": {},
   "outputs": [],
   "source": [
    "model = load_model(\"model_h_SSIM6\", custom={'SSIMLoss':SSIMLoss})"
   ]
  },
  {
   "cell_type": "code",
   "execution_count": 101,
   "id": "54f874ce",
   "metadata": {},
   "outputs": [],
   "source": [
    "####################################################################################\n",
    "# model_e14 frekar gott general skill, model_e40 gott en of miklir litir\n",
    "####################################################################################\n",
    "\n",
    "\n",
    "from skimage import color\n",
    "# save_model(model, \"model_e40\")\n",
    "\n",
    "# img_numbers = np.random.choice(size, 5)\n",
    "# test_image = X_test[img_numbers]\n",
    "iter = ds_test.as_numpy_iterator()\n",
    "test_image = iter.next()\n",
    "\n",
    "num_images = 4\n",
    "\n",
    "grey = test_image[0][:num_images]\n",
    "ab   = test_image[1][:num_images]\n",
    "\n",
    "none_arr = np.zeros(shape=(num_images, norm[0], norm[1], 2))\n",
    "\n",
    "pred = model.predict(grey)\n",
    "show_images(grey, none_arr)\n",
    "show_images(grey, map_from(pred), enhance=1.2)\n",
    "show_images(grey, map_from(ab))\n"
   ]
  },
  {
   "cell_type": "code",
   "execution_count": 132,
   "id": "de146611",
   "metadata": {},
   "outputs": [],
   "source": [
    "from gan import *\n",
    "from IPython.display import clear_output\n",
    "\n",
    "cross_entropy = BinaryCrossentropy(from_logits=True)\n",
    "\n",
    "def discriminator_loss(disc_real, disc_fake):\n",
    "    real_loss = cross_entropy(tf.ones_like(disc_real), disc_real)\n",
    "    fake_loss = cross_entropy(tf.zeros_like(disc_fake), disc_fake)\n",
    "    return real_loss + fake_loss\n",
    "\n",
    "def generator_loss(disc_fake):\n",
    "    return cross_entropy(tf.ones_like(disc_fake), disc_fake)\n"
   ]
  },
  {
   "cell_type": "code",
   "execution_count": null,
   "id": "c8cd791c",
   "metadata": {},
   "outputs": [],
   "source": [
    "# Mostly from https://www.tensorflow.org/tutorials/generative/dcgan\n",
    "\n",
    "gen = generator()\n",
    "disc = discriminator()\n",
    "\n",
    "gen_opt  = tf.keras.optimizers.RMSprop()\n",
    "disc_opt = tf.keras.optimizers.RMSprop()\n",
    "\n",
    "NUM_EPOCHS = 20\n",
    "\n",
    "ds_train_iter = ds_train.as_numpy_iterator()\n",
    "ds_val_iter   = ds_val.as_numpy_iterator()\n",
    "\n",
    "for epoch in range(NUM_EPOCHS):\n",
    "    for train_steps in tqdm(range(NUM_TRAIN_STEPS)):\n",
    "        train_batch = ds_train_iter.next()\n",
    "        X_real = train_batch[0]\n",
    "        y_real = train_batch[1]\n",
    "        \n",
    "        with tf.GradientTape() as gen_tape, tf.GradientTape() as disc_tape:\n",
    "            y_fake = gen(X_real)\n",
    "\n",
    "            disc_real = disc(y_real)\n",
    "            disc_fake = disc(y_fake)\n",
    "\n",
    "            gen_loss  = generator_loss(disc_fake)\n",
    "            disc_loss = discriminator_loss(disc_real, disc_fake)\n",
    "\n",
    "        gen_grad  = gen_tape.gradient(gen_loss, gen.trainable_variables)\n",
    "        disc_grad = disc_tape.gradient(disc_loss, disc.trainable_variables)\n",
    "\n",
    "        gen_opt.apply_gradients(zip(gen_grad, gen.trainable_variables))\n",
    "        disc_opt.apply_gradients(zip(disc_grad, disc.trainable_variables))\n",
    "    \n",
    "    clear_output(wait=True)\n",
    "    print(f'Epoch {epoch+1} |  Generator loss: {gen_loss}, Discriminator loss: {disc_loss}')\n"
   ]
  },
  {
   "cell_type": "code",
   "execution_count": 124,
   "id": "c7d371c0",
   "metadata": {},
   "outputs": [
    {
     "name": "stderr",
     "output_type": "stream",
     "text": [
      "\n",
      "100%|██████████| 10/10 [00:10<00:00,  1.01s/it]\n"
     ]
    }
   ],
   "source": [
    "\n",
    "\n",
    "    "
   ]
  },
  {
   "cell_type": "code",
   "execution_count": 17,
   "id": "536bb57e",
   "metadata": {},
   "outputs": [],
   "source": [
    "# img = Image.open(\"dand2.jpg\")\n",
    "# img = img.resize(norm)\n",
    "# img.show()\n",
    "# img = color.rgb2lab(img)\n",
    "\n",
    "\n",
    "# grey = np.expand_dims(np.expand_dims(img[:,:,0]/100, -1), 0).astype(np.float16)\n",
    "# print(grey.shape)\n",
    "# print(np.max(grey))\n",
    "# print(np.min(grey))"
   ]
  },
  {
   "cell_type": "code",
   "execution_count": null,
   "id": "7939752d",
   "metadata": {},
   "outputs": [],
   "source": [
    "# data_gen_args = dict(rotation_range=30, fill_mode='nearest',\n",
    "#                      width_shift_range=0.2, height_shift_range=0.2,\n",
    "#                      horizontal_flip=True, vertical_flip=True,\n",
    "#                      shear_range=0.3\n",
    "# )\n",
    "# image_datagen = ImageDataGenerator(**data_gen_args)\n",
    "# mask_datagen = ImageDataGenerator(**data_gen_args)\n",
    "\n",
    "# seed = 1337\n",
    "# image_datagen.fit(X_train, augment=True, seed=seed)\n",
    "# mask_datagen.fit(y_train, augment=True, seed=seed)\n",
    "\n",
    "# image_generator = image_datagen.flow(X_train, seed = seed, batch_size=64)\n",
    "# mask_generator = image_datagen.flow(y_train, seed = seed, batch_size=64)\n",
    "\n",
    "# train_generator = zip(image_generator, mask_generator)\n",
    "\n",
    "\n",
    "# # model = nn.autoencoder()\n",
    "# # model.compile(optimizer=RMSprop(), loss=MeanSquaredError(), metrics=[\"accuracy\"])\n",
    "# # model = nn.model_s()\n",
    "# # model.compile(optimizer='rmsprop', loss='mse', metrics=[\"accuracy\"])"
   ]
  }
 ],
 "metadata": {
  "interpreter": {
   "hash": "65d87dbd84d6699b6249583833f5a2128eb89a67d50c6406a8848397791798e4"
  },
  "kernelspec": {
   "display_name": "Python 3.9.0 64-bit ('tf2.6.0': conda)",
   "name": "python3"
  },
  "language_info": {
   "codemirror_mode": {
    "name": "ipython",
    "version": 3
   },
   "file_extension": ".py",
   "mimetype": "text/x-python",
   "name": "python",
   "nbconvert_exporter": "python",
   "pygments_lexer": "ipython3",
   "version": "3.9.0"
  }
 },
 "nbformat": 4,
 "nbformat_minor": 5
}
