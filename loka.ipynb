{
 "cells": [
  {
   "cell_type": "markdown",
   "source": [
    "# REI505M Machine Learning - Final project\r\n",
    "### Due: --------\r\n",
    "\r\n",
    "**Names**: Axel Kristján Axelsson, Bjarni Haukur Bjarnason <br />\r\n",
    "**Email**: aka30@hi.is, bhb23@hi.is"
   ],
   "metadata": {}
  },
  {
   "cell_type": "markdown",
   "source": [
    "**1. Image classification**\r\n",
    "\r\n",
    "s\r\n"
   ],
   "metadata": {}
  },
  {
   "cell_type": "code",
   "execution_count": 12,
   "source": [
    "import os\r\n",
    "from os import walk\r\n",
    "import shutil\r\n",
    "import numpy as np\r\n",
    "from PIL import Image\r\n",
    "import json\r\n"
   ],
   "outputs": [],
   "metadata": {}
  },
  {
   "cell_type": "code",
   "execution_count": 13,
   "source": [
    "dirName = \"combine\"\r\n",
    "rootPath = os.getcwd()\r\n",
    "dataPath = os.path.join(rootPath, dirName)\r\n",
    "\r\n",
    "subDirs = []\r\n",
    "subNames = []\r\n",
    "for (dirpath, dirnames, _) in walk(dataPath,topdown=False):\r\n",
    "    if dirpath==dataPath:\r\n",
    "        subNames.extend(dirnames)\r\n",
    "    else:\r\n",
    "        subDirs.append(dirpath)\r\n",
    "    \r\n",
    "numDirs = len(subDirs)\r\n",
    "imageNames = np.ndarray(shape=numDirs, dtype=list)\r\n",
    "\r\n",
    "\r\n",
    "\r\n",
    "for i in range(numDirs):\r\n",
    "    for (_, _, filenames) in walk(subDirs[i]):\r\n",
    "        imageNames[i] = filenames"
   ],
   "outputs": [],
   "metadata": {}
  },
  {
   "cell_type": "code",
   "execution_count": 14,
   "source": [
    "def resizable(img_size, aspect_ratio = 1.5, tolerance = 0.5):\r\n",
    "    width = img_size[0]\r\n",
    "    height = img_size[1]\r\n",
    "\r\n",
    "    if width >= height:\r\n",
    "        return aspect_ratio - tolerance <= width/height <= aspect_ratio + tolerance\r\n",
    "    return aspect_ratio - tolerance <= height/width <= aspect_ratio + tolerance"
   ],
   "outputs": [],
   "metadata": {}
  },
  {
   "cell_type": "code",
   "execution_count": 18,
   "source": [
    "with open('cat_to_name.json') as json_file:\r\n",
    "    nameDict = json.load(json_file)"
   ],
   "outputs": [],
   "metadata": {}
  },
  {
   "cell_type": "code",
   "execution_count": 19,
   "source": [
    "newName = \"normalized\"\r\n",
    "newPath = os.path.join(currentPath, newName)\r\n",
    "failPath = os.path.join(newPath, \"fail\")\r\n",
    "\r\n",
    "norm_size = (500,500)\r\n",
    "\r\n",
    "\r\n",
    "try:\r\n",
    "    shutil.rmtree(newPath)\r\n",
    "except:\r\n",
    "    pass\r\n",
    "\r\n",
    "os.mkdir(newPath)\r\n",
    "os.mkdir(failPath)\r\n",
    "\r\n",
    "for i, dirName in enumerate(subDirs):\r\n",
    "    category = subNames[i]\r\n",
    "    tempPath = os.path.join(newPath, category)\r\n",
    "    os.mkdir(tempPath)\r\n",
    "    imgNumber = 1\r\n",
    "    for imgName in imageNames[i]:\r\n",
    "        img = Image.open(dirName+\"\\\\\"+imgName)\r\n",
    "        if resizable(img.size):\r\n",
    "            img = img.resize(norm_size)\r\n",
    "            img.save(os.path.join(tempPath, nameDict[category]+str(imgNumber)+\".jpg\"), 'JPEG')\r\n",
    "        else:\r\n",
    "            img.save(os.path.join(failPath, nameDict[category]+str(imgNumber)+\".jpg\"), 'JPEG')\r\n",
    "        imgNumber = imgNumber + 1\r\n",
    "    "
   ],
   "outputs": [],
   "metadata": {}
  },
  {
   "cell_type": "code",
   "execution_count": null,
   "source": [
    "import random\r\n",
    "\r\n",
    "def train_test_split(root, subDirs, dirNames, ratio_test):\r\n",
    "    testDir = os.path.join(root, \"test\")\r\n",
    "\r\n",
    "    try:\r\n",
    "        shutil.rmtree(testDir)\r\n",
    "    except:\r\n",
    "        pass\r\n",
    "\r\n",
    "    os.mkdir(testDir)\r\n",
    "\r\n",
    "    for i, dir in enumerate(subDirs):\r\n",
    "        newDir = os.path.join(testDir, dirNames[i])\r\n",
    "        os.mkdir(newDir)\r\n",
    "        for (_, _, filenames) in walk(dir):\r\n",
    "            for name in filenames:\r\n",
    "                if random.random < ratio_test:\r\n",
    "                    oldpath = os.path.join(dir, name)\r\n",
    "                    newpath = os.path.join(newDir, name)\r\n",
    "                    shutil.move(oldpath, newpath)"
   ],
   "outputs": [],
   "metadata": {}
  },
  {
   "cell_type": "code",
   "execution_count": null,
   "source": [
    "train_test_split(rootPath, subDirs, )"
   ],
   "outputs": [],
   "metadata": {}
  }
 ],
 "metadata": {
  "kernelspec": {
   "name": "python3",
   "display_name": "Python 3.9.0 64-bit ('tf2.6.0': conda)"
  },
  "language_info": {
   "codemirror_mode": {
    "name": "ipython",
    "version": 3
   },
   "file_extension": ".py",
   "mimetype": "text/x-python",
   "name": "python",
   "nbconvert_exporter": "python",
   "pygments_lexer": "ipython3",
   "version": "3.9.0"
  },
  "interpreter": {
   "hash": "65d87dbd84d6699b6249583833f5a2128eb89a67d50c6406a8848397791798e4"
  }
 },
 "nbformat": 4,
 "nbformat_minor": 5
}