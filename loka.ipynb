{
 "cells": [
  {
   "cell_type": "markdown",
   "source": [
    "# REI505M Machine Learning - Final project\r\n",
    "### Due: --------\r\n",
    "\r\n",
    "**Names**: Axel Kristján Axelsson, Bjarni Haukur Bjarnason <br />\r\n",
    "**Email**: aka30@hi.is, bhb23@hi.is"
   ],
   "metadata": {}
  },
  {
   "cell_type": "markdown",
   "source": [
    "**Part 1**\r\n",
    "\r\n",
    "Take a close look at the recurrent neural network code shown in class (`CodeExamples-10` on Canvas). The code demonstrates how sequence to sequence learning can be used to learn how to add together small numbers. This is done by presenting the network with input-output pairs, where the input is a string on the form \"123+456\" and the output is \"579\".\r\n",
    "\r\n",
    "Modify the code for addition so that the network learns *multiplication* of two digit numbers (Exerccise 1.1, Exercise 1.2 and Exercise 1.3). You may need to modify the number of hidden nodes and layers in the network, as well as the number of epochs. You should not expect to get a network that predicts all the examples correctly.\r\n",
    "\r\n",
    "When you have finished training your network, report the training and validation accuracy returned by Keras, as well as the the fraction of correctly classified validation examples (Exercise 1.4 and Exercise 1.5). Provide a graph of the training and validation accuracy as a function of epoch number. \r\n",
    "\r\n",
    "You should mark all the modifications that you do to the code by inserting comments on the form\r\n",
    "```python\r\n",
    "# START MODIFICATION\r\n",
    "...\r\n",
    "# END MODIFICATION\r\n",
    "```\r\n",
    "\r\n",
    "*Note*: It is harder for the RNN to learn multiplication than addition and you therefore need to increase the size of the training set considerably. The code generates training examples at random, rejecting those that already exist. This results in long running times when the training size becomes large (a more efficient strategy would be to generate all possible training examples and seleecting a subset at random)."
   ],
   "metadata": {}
  }
 ],
 "metadata": {
  "kernelspec": {
   "name": "python3",
   "display_name": "Python 3.9.0 64-bit ('tf2.6.0': conda)"
  },
  "language_info": {
   "codemirror_mode": {
    "name": "ipython",
    "version": 3
   },
   "file_extension": ".py",
   "mimetype": "text/x-python",
   "name": "python",
   "nbconvert_exporter": "python",
   "pygments_lexer": "ipython3",
   "version": "3.9.0"
  },
  "interpreter": {
   "hash": "65d87dbd84d6699b6249583833f5a2128eb89a67d50c6406a8848397791798e4"
  }
 },
 "nbformat": 4,
 "nbformat_minor": 5
}