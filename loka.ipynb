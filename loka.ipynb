{
 "cells": [
  {
   "cell_type": "markdown",
   "source": [
    "# REI505M Machine Learning - Final project\r\n",
    "### Due: --------\r\n",
    "\r\n",
    "**Names**: Axel Kristján Axelsson, Bjarni Haukur Bjarnason <br />\r\n",
    "**Email**: aka30@hi.is, bhb23@hi.is"
   ],
   "metadata": {}
  },
  {
   "cell_type": "markdown",
   "source": [
    "**1. Image classification**\r\n",
    "\r\n",
    "s\r\n"
   ],
   "metadata": {}
  },
  {
   "cell_type": "code",
   "execution_count": 14,
   "source": [
    "import os\r\n",
    "from os import walk\r\n",
    "import shutil\r\n",
    "\r\n",
    "import random\r\n",
    "import numpy as np\r\n",
    "\r\n",
    "import json\r\n",
    "from PIL import Image"
   ],
   "outputs": [],
   "metadata": {}
  },
  {
   "cell_type": "code",
   "execution_count": 8,
   "source": [
    "dirName = \"combine\"\r\n",
    "rootPath = os.getcwd()\r\n",
    "dataPath = os.path.join(rootPath, dirName)\r\n",
    "\r\n",
    "subDirs = []\r\n",
    "subNames = []\r\n",
    "for (dirpath, dirnames, _) in walk(dataPath,topdown=False):\r\n",
    "    if dirpath==dataPath:\r\n",
    "        subNames.extend(dirnames)\r\n",
    "    else:\r\n",
    "        subDirs.append(dirpath)\r\n",
    "    \r\n",
    "numDirs = len(subDirs)\r\n",
    "imageNames = np.ndarray(shape=numDirs, dtype=list)\r\n",
    "\r\n",
    "\r\n",
    "\r\n",
    "for i in range(numDirs):\r\n",
    "    for (_, _, filenames) in walk(subDirs[i]):\r\n",
    "        imageNames[i] = filenames"
   ],
   "outputs": [],
   "metadata": {}
  },
  {
   "cell_type": "code",
   "execution_count": 9,
   "source": [
    "def resizable(img_size, aspect_ratio = 1.5, tolerance = 0.5):\r\n",
    "    width = img_size[0]\r\n",
    "    height = img_size[1]\r\n",
    "\r\n",
    "    if width >= height:\r\n",
    "        return aspect_ratio - tolerance <= width/height <= aspect_ratio + tolerance\r\n",
    "    return aspect_ratio - tolerance <= height/width <= aspect_ratio + tolerance"
   ],
   "outputs": [],
   "metadata": {}
  },
  {
   "cell_type": "code",
   "execution_count": 10,
   "source": [
    "with open('cat_to_name.json') as json_file:\r\n",
    "    nameDict = json.load(json_file)"
   ],
   "outputs": [],
   "metadata": {}
  },
  {
   "cell_type": "code",
   "execution_count": 16,
   "source": [
    "def normalize_train_data(data_dir, norm_size=(500,500)):\r\n",
    "    rootPath = os.getcwd()\r\n",
    "\r\n",
    "    dataPath = os.path.join(rootPath, data_dir)\r\n",
    "\r\n",
    "    newName = \"train\"\r\n",
    "    newPath = os.path.join(rootPath, newName)\r\n",
    "    failPath = os.path.join(newPath, \"fail\")\r\n",
    "\r\n",
    "    try:\r\n",
    "        shutil.rmtree(newPath)\r\n",
    "    except:\r\n",
    "        pass\r\n",
    "\r\n",
    "    os.mkdir(newPath)\r\n",
    "    os.mkdir(failPath)\r\n",
    "\r\n",
    "    for (_, dirNames, _) in walk(dataPath):\r\n",
    "        for category in dirNames:\r\n",
    "            readPath = os.path.join(dataPath, category)\r\n",
    "            writePath = os.path.join(newPath, category)\r\n",
    "            os.mkdir(writePath)\r\n",
    "            for (_,_,fileNames) in walk(readPath):\r\n",
    "                imgNumber = 1\r\n",
    "                for imgName in fileNames:\r\n",
    "                    img = Image.open(readPath+\"\\\\\"+imgName)\r\n",
    "                    if resizable(img.size):\r\n",
    "                        img = img.resize(norm_size)\r\n",
    "                        img.save(os.path.join(writePath, nameDict[category]+str(imgNumber)+\".jpg\"), 'JPEG')\r\n",
    "                    else:\r\n",
    "                        img.save(os.path.join(failPath, nameDict[category]+str(imgNumber)+\".jpg\"), 'JPEG')\r\n",
    "                    imgNumber = imgNumber + 1\r\n",
    "    "
   ],
   "outputs": [],
   "metadata": {}
  },
  {
   "cell_type": "code",
   "execution_count": 13,
   "source": [
    "normalize_train_data(dirName)"
   ],
   "outputs": [
    {
     "output_type": "error",
     "ename": "AttributeError",
     "evalue": "module 'os' has no attribute 'join'",
     "traceback": [
      "\u001b[1;31m---------------------------------------------------------------------------\u001b[0m",
      "\u001b[1;31mAttributeError\u001b[0m                            Traceback (most recent call last)",
      "\u001b[1;32m~\\AppData\\Local\\Temp/ipykernel_20096/2281406613.py\u001b[0m in \u001b[0;36m<module>\u001b[1;34m\u001b[0m\n\u001b[1;32m----> 1\u001b[1;33m \u001b[0mnormalize_train_data\u001b[0m\u001b[1;33m(\u001b[0m\u001b[0mdirName\u001b[0m\u001b[1;33m)\u001b[0m\u001b[1;33m\u001b[0m\u001b[1;33m\u001b[0m\u001b[0m\n\u001b[0m",
      "\u001b[1;32m~\\AppData\\Local\\Temp/ipykernel_20096/518965708.py\u001b[0m in \u001b[0;36mnormalize_train_data\u001b[1;34m(data_dir, norm_size)\u001b[0m\n\u001b[0;32m     18\u001b[0m     \u001b[1;32mfor\u001b[0m \u001b[1;33m(\u001b[0m\u001b[0m_\u001b[0m\u001b[1;33m,\u001b[0m \u001b[0mdirNames\u001b[0m\u001b[1;33m,\u001b[0m \u001b[0m_\u001b[0m\u001b[1;33m)\u001b[0m \u001b[1;32min\u001b[0m \u001b[0mwalk\u001b[0m\u001b[1;33m(\u001b[0m\u001b[0mdataPath\u001b[0m\u001b[1;33m)\u001b[0m\u001b[1;33m:\u001b[0m\u001b[1;33m\u001b[0m\u001b[1;33m\u001b[0m\u001b[0m\n\u001b[0;32m     19\u001b[0m         \u001b[1;32mfor\u001b[0m \u001b[0mcategory\u001b[0m \u001b[1;32min\u001b[0m \u001b[0mdirNames\u001b[0m\u001b[1;33m:\u001b[0m\u001b[1;33m\u001b[0m\u001b[1;33m\u001b[0m\u001b[0m\n\u001b[1;32m---> 20\u001b[1;33m             \u001b[0mreadPath\u001b[0m \u001b[1;33m=\u001b[0m \u001b[0mos\u001b[0m\u001b[1;33m.\u001b[0m\u001b[0mjoin\u001b[0m\u001b[1;33m.\u001b[0m\u001b[0mpath\u001b[0m\u001b[1;33m(\u001b[0m\u001b[0mdataPath\u001b[0m\u001b[1;33m,\u001b[0m \u001b[0mcategory\u001b[0m\u001b[1;33m)\u001b[0m\u001b[1;33m\u001b[0m\u001b[1;33m\u001b[0m\u001b[0m\n\u001b[0m\u001b[0;32m     21\u001b[0m             \u001b[0mwritePath\u001b[0m \u001b[1;33m=\u001b[0m \u001b[0mos\u001b[0m\u001b[1;33m.\u001b[0m\u001b[0mjoin\u001b[0m\u001b[1;33m.\u001b[0m\u001b[0mpath\u001b[0m\u001b[1;33m(\u001b[0m\u001b[0mnewPath\u001b[0m\u001b[1;33m,\u001b[0m \u001b[0mcategory\u001b[0m\u001b[1;33m)\u001b[0m\u001b[1;33m\u001b[0m\u001b[1;33m\u001b[0m\u001b[0m\n\u001b[0;32m     22\u001b[0m             \u001b[0mos\u001b[0m\u001b[1;33m.\u001b[0m\u001b[0mmkdir\u001b[0m\u001b[1;33m(\u001b[0m\u001b[0mwritePath\u001b[0m\u001b[1;33m)\u001b[0m\u001b[1;33m\u001b[0m\u001b[1;33m\u001b[0m\u001b[0m\n",
      "\u001b[1;31mAttributeError\u001b[0m: module 'os' has no attribute 'join'"
     ]
    }
   ],
   "metadata": {}
  },
  {
   "cell_type": "code",
   "execution_count": 28,
   "source": [
    "def train_test_split(ratio_test):\r\n",
    "    rootPath = os.getcwd()\r\n",
    "    trainDir = os.path.join(rootPath, \"train\")\r\n",
    "    testDir = os.path.join(rootPath, \"test\")\r\n",
    "\r\n",
    "    try:\r\n",
    "        shutil.rmtree(testDir)\r\n",
    "    except:\r\n",
    "        pass\r\n",
    "\r\n",
    "    os.mkdir(testDir)\r\n",
    "\r\n",
    "    for (_, dirNames, _) in walk(trainDir):\r\n",
    "        for dirName in dirNames:\r\n",
    "            newTrainDir = os.path.join(trainDir, dirName)\r\n",
    "            newTestDir = os.path.join(testDir, dirName)\r\n",
    "            os.mkdir(newTestDir)\r\n",
    "            for (_, _, filenames) in walk(newTrainDir):\r\n",
    "                for name in filenames:\r\n",
    "                    if random.random() < ratio_test:\r\n",
    "                        oldpath = os.path.join(newTrainDir, name)\r\n",
    "                        newpath = os.path.join(newTestDir, name)\r\n",
    "                        shutil.move(oldpath, newpath)"
   ],
   "outputs": [],
   "metadata": {}
  },
  {
   "cell_type": "code",
   "execution_count": 29,
   "source": [
    "train_test_split(0.2)"
   ],
   "outputs": [],
   "metadata": {}
  }
 ],
 "metadata": {
  "kernelspec": {
   "name": "python3",
   "display_name": "Python 3.9.0 64-bit ('tf2.6.0': conda)"
  },
  "language_info": {
   "codemirror_mode": {
    "name": "ipython",
    "version": 3
   },
   "file_extension": ".py",
   "mimetype": "text/x-python",
   "name": "python",
   "nbconvert_exporter": "python",
   "pygments_lexer": "ipython3",
   "version": "3.9.0"
  },
  "interpreter": {
   "hash": "65d87dbd84d6699b6249583833f5a2128eb89a67d50c6406a8848397791798e4"
  }
 },
 "nbformat": 4,
 "nbformat_minor": 5
}