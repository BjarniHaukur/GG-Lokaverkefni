{
 "cells": [
  {
   "cell_type": "markdown",
   "metadata": {},
   "source": [
    "# REI505M Machine Learning - Final project\n",
    "### Due: --------\n",
    "\n",
    "**Names**: Axel Kristján Axelsson, Bjarni Haukur Bjarnason <br />\n",
    "**Email**: aka30@hi.is, bhb23@hi.is"
   ]
  },
  {
   "cell_type": "markdown",
   "metadata": {},
   "source": [
    "**1. Image classification**\n",
    "\n",
    "s\n"
   ]
  },
  {
   "cell_type": "code",
   "execution_count": 8,
   "metadata": {},
   "outputs": [
    {
     "name": "stdout",
     "output_type": "stream",
     "text": [
      "The autoreload extension is already loaded. To reload it, use:\n",
      "  %reload_ext autoreload\n"
     ]
    }
   ],
   "source": [
    "from data_loader import MyDataLoader\n",
    "%load_ext autoreload \n",
    "%autoreload 2\n",
    "dl = MyDataLoader(\"combine2\", (128,128))\n",
    "\n"
   ]
  },
  {
   "cell_type": "code",
   "execution_count": 2,
   "metadata": {},
   "outputs": [
    {
     "name": "stderr",
     "output_type": "stream",
     "text": [
      "100%|██████████| 102/102 [00:54<00:00,  1.89it/s]\n"
     ]
    }
   ],
   "source": [
    "dl.normalize_train_data(norm_size=(128,128))"
   ]
  },
  {
   "cell_type": "code",
   "execution_count": 9,
   "id": "ee46fb8f",
   "metadata": {},
   "outputs": [
    {
     "name": "stderr",
     "output_type": "stream",
     "text": [
      "100%|██████████| 102/102 [00:55<00:00,  1.85it/s]\n"
     ]
    }
   ],
   "source": [
    "try:\n",
    "    del X\n",
    "    del y\n",
    "\n",
    "except:\n",
    "    pass\n",
    "\n",
    "X, y = dl.get_lab_data()"
   ]
  },
  {
   "cell_type": "code",
   "execution_count": 16,
   "id": "2b1a456f",
   "metadata": {},
   "outputs": [
    {
     "name": "stdout",
     "output_type": "stream",
     "text": [
      "(11636, 128, 128, 1)\n",
      "(11636, 128, 128, 2)\n",
      "100\n",
      "-107\n"
     ]
    }
   ],
   "source": [
    "import numpy as np\n",
    "\n",
    "print(X.shape)\n",
    "print(y.shape)\n",
    "print(np.max(X))\n",
    "print(np.min(y))"
   ]
  },
  {
   "cell_type": "code",
   "execution_count": 4,
   "id": "3b32dfdd",
   "metadata": {},
   "outputs": [],
   "source": [
    "X_lab = lab[:,:,:,0]/100\n",
    "y_lab = lab[:,:,:,1:]/128"
   ]
  },
  {
   "cell_type": "code",
   "execution_count": 5,
   "id": "a2d5beec",
   "metadata": {},
   "outputs": [
    {
     "name": "stdout",
     "output_type": "stream",
     "text": [
      "1.0\n",
      "0.7648338107997892\n",
      "0.0\n",
      "-0.8414919384200387\n"
     ]
    }
   ],
   "source": [
    "import numpy as np\n",
    "\n",
    "print(np.max(X_lab))\n",
    "print(np.max(y_lab))\n",
    "print(np.min(X_lab))\n",
    "print(np.min(y_lab))"
   ]
  },
  {
   "cell_type": "code",
   "execution_count": 6,
   "id": "2cc19a1b",
   "metadata": {},
   "outputs": [],
   "source": [
    "from sklearn.model_selection import train_test_split\n",
    "\n",
    "X_train, X_test, y_train, y_test = train_test_split(X_lab, y_lab, test_size = 0.3, random_state = 3)\n",
    "X_test, X_val, y_test, y_val = train_test_split(X_test, y_test, test_size = 0.33, random_state = 3)"
   ]
  },
  {
   "cell_type": "code",
   "execution_count": 7,
   "id": "8628cb49",
   "metadata": {},
   "outputs": [
    {
     "name": "stdout",
     "output_type": "stream",
     "text": [
      "(8145, 128, 128, 2)\n",
      "1.0\n",
      "0.7648338107997892\n",
      "0.0\n",
      "-0.8272612483944879\n"
     ]
    }
   ],
   "source": [
    "import numpy as np\n",
    "\n",
    "X_bla = np.expand_dims(X_train, -1)\n",
    "y_bla = y_train\n",
    "print(y_bla.shape)\n",
    "print(np.max(X_bla))\n",
    "print(np.max(y_bla))\n",
    "print(np.min(X_bla))\n",
    "print(np.min(y_bla))\n"
   ]
  },
  {
   "cell_type": "code",
   "execution_count": 17,
   "id": "80a4c401",
   "metadata": {},
   "outputs": [],
   "source": [
    "import tensorflow as tf\n",
    "tf.keras.backend.clear_session()"
   ]
  },
  {
   "cell_type": "code",
   "execution_count": 9,
   "id": "be5f0504",
   "metadata": {},
   "outputs": [
    {
     "name": "stdout",
     "output_type": "stream",
     "text": [
      "Epoch 1/30\n",
      "255/255 [==============================] - 17s 63ms/step - loss: 0.2162\n",
      "Epoch 2/30\n",
      "255/255 [==============================] - 16s 62ms/step - loss: 0.2149\n",
      "Epoch 3/30\n",
      "255/255 [==============================] - 16s 63ms/step - loss: 0.2147\n",
      "Epoch 4/30\n",
      "255/255 [==============================] - 16s 62ms/step - loss: 0.2145\n",
      "Epoch 5/30\n",
      "255/255 [==============================] - 13s 52ms/step - loss: 0.2142\n",
      "Epoch 6/30\n",
      "255/255 [==============================] - 13s 50ms/step - loss: 0.2140\n",
      "Epoch 7/30\n",
      "255/255 [==============================] - 13s 50ms/step - loss: 0.2138\n",
      "Epoch 8/30\n",
      "255/255 [==============================] - 13s 50ms/step - loss: 0.2136\n",
      "Epoch 9/30\n",
      "255/255 [==============================] - 13s 50ms/step - loss: 0.2134\n",
      "Epoch 10/30\n",
      "255/255 [==============================] - 13s 51ms/step - loss: 0.2133\n",
      "Epoch 11/30\n",
      "255/255 [==============================] - 13s 50ms/step - loss: 0.2130\n",
      "Epoch 12/30\n",
      "255/255 [==============================] - 13s 51ms/step - loss: 0.2128\n",
      "Epoch 13/30\n",
      "255/255 [==============================] - 13s 51ms/step - loss: 0.2124\n",
      "Epoch 14/30\n",
      "255/255 [==============================] - 13s 51ms/step - loss: 0.2121\n",
      "Epoch 15/30\n",
      "255/255 [==============================] - 13s 51ms/step - loss: 0.2115\n",
      "Epoch 16/30\n",
      "255/255 [==============================] - 13s 51ms/step - loss: 0.2109\n",
      "Epoch 17/30\n",
      "255/255 [==============================] - 13s 50ms/step - loss: 0.2101\n",
      "Epoch 18/30\n",
      "255/255 [==============================] - 13s 51ms/step - loss: 0.2091\n",
      "Epoch 19/30\n",
      "255/255 [==============================] - 13s 52ms/step - loss: 0.2080\n",
      "Epoch 20/30\n",
      "255/255 [==============================] - 13s 50ms/step - loss: 0.2071\n",
      "Epoch 21/30\n",
      "255/255 [==============================] - 13s 51ms/step - loss: 0.2062\n",
      "Epoch 22/30\n",
      "255/255 [==============================] - 13s 52ms/step - loss: 0.2053\n",
      "Epoch 23/30\n",
      "255/255 [==============================] - 13s 51ms/step - loss: 0.2046\n",
      "Epoch 24/30\n",
      "255/255 [==============================] - 13s 49ms/step - loss: 0.2040\n",
      "Epoch 25/30\n",
      "255/255 [==============================] - 12s 49ms/step - loss: 0.2035\n",
      "Epoch 26/30\n",
      "255/255 [==============================] - 12s 49ms/step - loss: 0.2031\n",
      "Epoch 27/30\n",
      "255/255 [==============================] - 12s 49ms/step - loss: 0.2027\n",
      "Epoch 28/30\n",
      "255/255 [==============================] - 12s 49ms/step - loss: 0.2024\n",
      "Epoch 29/30\n",
      "255/255 [==============================] - 12s 49ms/step - loss: 0.2021\n",
      "Epoch 30/30\n",
      "255/255 [==============================] - 12s 49ms/step - loss: 0.2018\n"
     ]
    },
    {
     "data": {
      "text/plain": [
       "<keras.callbacks.History at 0x216dfe0d070>"
      ]
     },
     "execution_count": 9,
     "metadata": {},
     "output_type": "execute_result"
    }
   ],
   "source": [
    "\n",
    "from keras.layers import Input, Conv2D, BatchNormalization, UpSampling2D, Dense, InputLayer\n",
    "from keras.models import Model\n",
    "from keras.regularizers import l2\n",
    "from tensorflow.keras.optimizers import Adam\n",
    "from keras import Sequential\n",
    "\n",
    "\n",
    "\n",
    "\n",
    "img_shape = (128, 128, 1)\n",
    "kernel_size = (3,3)\n",
    "num_filters = 64\n",
    "\n",
    "try:\n",
    "    del model\n",
    "except:\n",
    "    pass\n",
    "\n",
    "model = Sequential()\n",
    "model.add(InputLayer(input_shape=img_shape))\n",
    "model.add(Conv2D(num_filters, kernel_size, activation='relu', padding='same'))\n",
    "model.add(Conv2D(num_filters, kernel_size, activation='relu', padding='same', strides=2))\n",
    "model.add(Conv2D(num_filters*2, kernel_size, activation='relu', padding='same'))\n",
    "model.add(Conv2D(num_filters*2, kernel_size, activation='relu', padding='same', strides=2))\n",
    "model.add(Conv2D(num_filters*4, kernel_size, activation='relu', padding='same'))\n",
    "model.add(Conv2D(num_filters*4, kernel_size, activation='relu', padding='same', strides=2))\n",
    "model.add(Conv2D(num_filters*8, kernel_size, activation='relu', padding='same'))\n",
    "model.add(Conv2D(num_filters*4, kernel_size, activation='relu', padding='same'))\n",
    "model.add(Conv2D(num_filters*2, kernel_size, activation='relu', padding='same'))\n",
    "model.add(UpSampling2D((2, 2)))\n",
    "model.add(Conv2D(num_filters, kernel_size, activation='relu', padding='same'))\n",
    "model.add(UpSampling2D((2, 2)))\n",
    "model.add(Conv2D(32, kernel_size, activation='relu', padding='same'))\n",
    "model.add(Conv2D(2, kernel_size, activation='softmax', padding='same'))\n",
    "model.add(UpSampling2D((2, 2)))\n",
    "\n",
    "\n",
    "\n",
    "model.compile(optimizer='rmsprop', loss='mse')\n",
    "\n",
    "model.fit(X_bla, y_bla, batch_size = 32, epochs = 30)"
   ]
  },
  {
   "cell_type": "code",
   "execution_count": 13,
   "id": "ef9e7423",
   "metadata": {},
   "outputs": [
    {
     "name": "stdout",
     "output_type": "stream",
     "text": [
      "65.87507\n",
      "62.124935\n"
     ]
    }
   ],
   "source": [
    "# model.fit(X_train, y_train, batch_size = 32, epochs = 100, validation_data=(X_val, y_val))\n",
    "pred = model.predict(np.expand_dims(np.divide(X_test[:100],100),-1))\n",
    "pred = pred*128\n",
    "print(np.max(pred[1]))\n",
    "print(np.min(pred[1]))\n"
   ]
  },
  {
   "cell_type": "code",
   "execution_count": 14,
   "id": "68559835",
   "metadata": {},
   "outputs": [
    {
     "name": "stdout",
     "output_type": "stream",
     "text": [
      "(128, 128)\n",
      "65\n",
      "0\n"
     ]
    }
   ],
   "source": [
    "\n",
    "mynd = pred[1]\n",
    "fokking = np.zeros((128,128,3))\n",
    "print(X_test[1].shape)\n",
    "fokking[:,:,0] = X_test[1]\n",
    "fokking[:,:,1:] = mynd\n",
    "fokking = fokking.astype(int)\n",
    "print(np.max(fokking))\n",
    "print(np.min(fokking))"
   ]
  },
  {
   "cell_type": "code",
   "execution_count": 15,
   "id": "f109ae24",
   "metadata": {},
   "outputs": [
    {
     "name": "stdout",
     "output_type": "stream",
     "text": [
      "4.501204800696596e-10\n",
      "0.0\n"
     ]
    }
   ],
   "source": [
    "drasl = color.lab2rgb(fokking)\n",
    "print(np.max(drasl))\n",
    "print(np.min(drasl))"
   ]
  },
  {
   "cell_type": "code",
   "execution_count": 16,
   "id": "50bfef92",
   "metadata": {},
   "outputs": [
    {
     "ename": "TypeError",
     "evalue": "Cannot handle this data type: (1, 1, 3), <f8",
     "output_type": "error",
     "traceback": [
      "\u001b[1;31m---------------------------------------------------------------------------\u001b[0m",
      "\u001b[1;31mKeyError\u001b[0m                                  Traceback (most recent call last)",
      "\u001b[1;32m~\\AppData\\Roaming\\Python\\Python39\\site-packages\\PIL\\Image.py\u001b[0m in \u001b[0;36mfromarray\u001b[1;34m(obj, mode)\u001b[0m\n\u001b[0;32m   2827\u001b[0m         \u001b[1;32mtry\u001b[0m\u001b[1;33m:\u001b[0m\u001b[1;33m\u001b[0m\u001b[1;33m\u001b[0m\u001b[0m\n\u001b[1;32m-> 2828\u001b[1;33m             \u001b[0mmode\u001b[0m\u001b[1;33m,\u001b[0m \u001b[0mrawmode\u001b[0m \u001b[1;33m=\u001b[0m \u001b[0m_fromarray_typemap\u001b[0m\u001b[1;33m[\u001b[0m\u001b[0mtypekey\u001b[0m\u001b[1;33m]\u001b[0m\u001b[1;33m\u001b[0m\u001b[1;33m\u001b[0m\u001b[0m\n\u001b[0m\u001b[0;32m   2829\u001b[0m         \u001b[1;32mexcept\u001b[0m \u001b[0mKeyError\u001b[0m \u001b[1;32mas\u001b[0m \u001b[0me\u001b[0m\u001b[1;33m:\u001b[0m\u001b[1;33m\u001b[0m\u001b[1;33m\u001b[0m\u001b[0m\n",
      "\u001b[1;31mKeyError\u001b[0m: ((1, 1, 3), '<f8')",
      "\nThe above exception was the direct cause of the following exception:\n",
      "\u001b[1;31mTypeError\u001b[0m                                 Traceback (most recent call last)",
      "\u001b[1;32m~\\AppData\\Local\\Temp/ipykernel_16680/2955361869.py\u001b[0m in \u001b[0;36m<module>\u001b[1;34m\u001b[0m\n\u001b[0;32m      1\u001b[0m \u001b[1;32mfrom\u001b[0m \u001b[0mPIL\u001b[0m \u001b[1;32mimport\u001b[0m \u001b[0mImage\u001b[0m\u001b[1;33m\u001b[0m\u001b[1;33m\u001b[0m\u001b[0m\n\u001b[0;32m      2\u001b[0m \u001b[1;33m\u001b[0m\u001b[0m\n\u001b[1;32m----> 3\u001b[1;33m \u001b[0mimg\u001b[0m \u001b[1;33m=\u001b[0m \u001b[0mImage\u001b[0m\u001b[1;33m.\u001b[0m\u001b[0mfromarray\u001b[0m\u001b[1;33m(\u001b[0m\u001b[0mdrasl\u001b[0m\u001b[1;33m)\u001b[0m\u001b[1;33m\u001b[0m\u001b[1;33m\u001b[0m\u001b[0m\n\u001b[0m\u001b[0;32m      4\u001b[0m \u001b[1;33m\u001b[0m\u001b[0m\n\u001b[0;32m      5\u001b[0m \u001b[0mimgO\u001b[0m \u001b[1;33m=\u001b[0m \u001b[0mImage\u001b[0m\u001b[1;33m.\u001b[0m\u001b[0mfromarray\u001b[0m\u001b[1;33m(\u001b[0m\u001b[0mX_test\u001b[0m\u001b[1;33m[\u001b[0m\u001b[1;36m1\u001b[0m\u001b[1;33m]\u001b[0m\u001b[1;33m)\u001b[0m\u001b[1;33m\u001b[0m\u001b[1;33m\u001b[0m\u001b[0m\n",
      "\u001b[1;32m~\\AppData\\Roaming\\Python\\Python39\\site-packages\\PIL\\Image.py\u001b[0m in \u001b[0;36mfromarray\u001b[1;34m(obj, mode)\u001b[0m\n\u001b[0;32m   2828\u001b[0m             \u001b[0mmode\u001b[0m\u001b[1;33m,\u001b[0m \u001b[0mrawmode\u001b[0m \u001b[1;33m=\u001b[0m \u001b[0m_fromarray_typemap\u001b[0m\u001b[1;33m[\u001b[0m\u001b[0mtypekey\u001b[0m\u001b[1;33m]\u001b[0m\u001b[1;33m\u001b[0m\u001b[1;33m\u001b[0m\u001b[0m\n\u001b[0;32m   2829\u001b[0m         \u001b[1;32mexcept\u001b[0m \u001b[0mKeyError\u001b[0m \u001b[1;32mas\u001b[0m \u001b[0me\u001b[0m\u001b[1;33m:\u001b[0m\u001b[1;33m\u001b[0m\u001b[1;33m\u001b[0m\u001b[0m\n\u001b[1;32m-> 2830\u001b[1;33m             \u001b[1;32mraise\u001b[0m \u001b[0mTypeError\u001b[0m\u001b[1;33m(\u001b[0m\u001b[1;34m\"Cannot handle this data type: %s, %s\"\u001b[0m \u001b[1;33m%\u001b[0m \u001b[0mtypekey\u001b[0m\u001b[1;33m)\u001b[0m \u001b[1;32mfrom\u001b[0m \u001b[0me\u001b[0m\u001b[1;33m\u001b[0m\u001b[1;33m\u001b[0m\u001b[0m\n\u001b[0m\u001b[0;32m   2831\u001b[0m     \u001b[1;32melse\u001b[0m\u001b[1;33m:\u001b[0m\u001b[1;33m\u001b[0m\u001b[1;33m\u001b[0m\u001b[0m\n\u001b[0;32m   2832\u001b[0m         \u001b[0mrawmode\u001b[0m \u001b[1;33m=\u001b[0m \u001b[0mmode\u001b[0m\u001b[1;33m\u001b[0m\u001b[1;33m\u001b[0m\u001b[0m\n",
      "\u001b[1;31mTypeError\u001b[0m: Cannot handle this data type: (1, 1, 3), <f8"
     ]
    }
   ],
   "source": [
    "from PIL import Image\n",
    "\n",
    "img = Image.fromarray(drasl)\n",
    "\n",
    "imgO = Image.fromarray(X_test[1])\n",
    "# imgTrue = Image.fromarray(y_test[1], 'RGB')\n",
    "# img = Image.fromarray(mynd1, 'RGB')\n",
    "imgO.show()\n",
    "# imgTrue.show()\n",
    "img.show()"
   ]
  },
  {
   "cell_type": "code",
   "execution_count": 18,
   "id": "133d5294",
   "metadata": {},
   "outputs": [
    {
     "name": "stdout",
     "output_type": "stream",
     "text": [
      "Num GPUs Available:  1\n"
     ]
    }
   ],
   "source": [
    "import tensorflow as tf\n",
    "print(\"Num GPUs Available: \", len(tf.config.list_physical_devices('GPU')))\n"
   ]
  },
  {
   "cell_type": "code",
   "execution_count": 22,
   "id": "77385443",
   "metadata": {},
   "outputs": [
    {
     "name": "stdout",
     "output_type": "stream",
     "text": [
      "(11636, 500, 500)\n",
      "[[184 184 184 ... 187 187 187]\n",
      " [184 184 184 ... 187 187 187]\n",
      " [184 184 184 ... 187 187 187]\n",
      " ...\n",
      " [169 167 166 ... 209 209 209]\n",
      " [171 169 167 ... 209 209 209]\n",
      " [172 170 168 ... 209 209 209]]\n"
     ]
    }
   ],
   "source": [
    "print(X.shape)\n",
    "print(X[11001])\n"
   ]
  },
  {
   "cell_type": "code",
   "execution_count": 7,
   "id": "cf2dc018",
   "metadata": {},
   "outputs": [
    {
     "name": "stdout",
     "output_type": "stream",
     "text": [
      "(9262, 500, 500, 3)\n",
      "(9262, 500, 500, 3)\n",
      "[[[ 55  45  35]\n",
      "  [ 56  46  36]\n",
      "  [ 56  46  36]\n",
      "  ...\n",
      "  [ 47  43  31]\n",
      "  [ 47  43  31]\n",
      "  [ 47  43  31]]\n",
      "\n",
      " [[ 52  42  32]\n",
      "  [ 53  43  33]\n",
      "  [ 54  44  34]\n",
      "  ...\n",
      "  [ 52  48  36]\n",
      "  [ 52  48  36]\n",
      "  [ 52  48  36]]\n",
      "\n",
      " [[ 49  39  29]\n",
      "  [ 50  40  30]\n",
      "  [ 51  41  31]\n",
      "  ...\n",
      "  [ 55  51  39]\n",
      "  [ 55  51  39]\n",
      "  [ 55  51  39]]\n",
      "\n",
      " ...\n",
      "\n",
      " [[146 106 107]\n",
      "  [146 106 107]\n",
      "  [145 105 105]\n",
      "  ...\n",
      "  [165 158 166]\n",
      "  [165 158 166]\n",
      "  [165 158 166]]\n",
      "\n",
      " [[158 118 119]\n",
      "  [158 118 119]\n",
      "  [157 117 117]\n",
      "  ...\n",
      "  [175 168 176]\n",
      "  [175 168 176]\n",
      "  [175 168 176]]\n",
      "\n",
      " [[165 125 126]\n",
      "  [164 124 125]\n",
      "  [164 124 124]\n",
      "  ...\n",
      "  [180 173 181]\n",
      "  [180 173 181]\n",
      "  [180 173 181]]]\n"
     ]
    }
   ],
   "source": [
    "\n",
    "\n",
    "# print(X.shape)\n",
    "# print(X_test.shape)\n",
    "# im = Image.fromarray(X_train[0], mode=\"YCbCr\")\n",
    "# im.show()\n",
    "# print(X_test[0])"
   ]
  },
  {
   "cell_type": "code",
   "execution_count": 8,
   "metadata": {},
   "outputs": [],
   "source": [
    "from PIL import Image\n",
    "import numpy as np\n",
    "\n",
    "img = Image.open(\"test.jpg\").convert('L')\n",
    "img = img.resize((500,500))\n",
    "img.show()\n",
    "arr = np.array(img)"
   ]
  },
  {
   "cell_type": "code",
   "execution_count": 18,
   "id": "ab068f52",
   "metadata": {},
   "outputs": [
    {
     "ename": "TypeError",
     "evalue": "Cannot handle this data type: (1, 1, 3), <i2",
     "output_type": "error",
     "traceback": [
      "\u001b[1;31m---------------------------------------------------------------------------\u001b[0m",
      "\u001b[1;31mKeyError\u001b[0m                                  Traceback (most recent call last)",
      "\u001b[1;32m~\\AppData\\Roaming\\Python\\Python39\\site-packages\\PIL\\Image.py\u001b[0m in \u001b[0;36mfromarray\u001b[1;34m(obj, mode)\u001b[0m\n\u001b[0;32m   2827\u001b[0m         \u001b[1;32mtry\u001b[0m\u001b[1;33m:\u001b[0m\u001b[1;33m\u001b[0m\u001b[1;33m\u001b[0m\u001b[0m\n\u001b[1;32m-> 2828\u001b[1;33m             \u001b[0mmode\u001b[0m\u001b[1;33m,\u001b[0m \u001b[0mrawmode\u001b[0m \u001b[1;33m=\u001b[0m \u001b[0m_fromarray_typemap\u001b[0m\u001b[1;33m[\u001b[0m\u001b[0mtypekey\u001b[0m\u001b[1;33m]\u001b[0m\u001b[1;33m\u001b[0m\u001b[1;33m\u001b[0m\u001b[0m\n\u001b[0m\u001b[0;32m   2829\u001b[0m         \u001b[1;32mexcept\u001b[0m \u001b[0mKeyError\u001b[0m \u001b[1;32mas\u001b[0m \u001b[0me\u001b[0m\u001b[1;33m:\u001b[0m\u001b[1;33m\u001b[0m\u001b[1;33m\u001b[0m\u001b[0m\n",
      "\u001b[1;31mKeyError\u001b[0m: ((1, 1, 3), '<i2')",
      "\nThe above exception was the direct cause of the following exception:\n",
      "\u001b[1;31mTypeError\u001b[0m                                 Traceback (most recent call last)",
      "\u001b[1;32m~\\AppData\\Local\\Temp/ipykernel_21428/2440470716.py\u001b[0m in \u001b[0;36m<module>\u001b[1;34m\u001b[0m\n\u001b[0;32m      5\u001b[0m \u001b[0mimg\u001b[0m \u001b[1;33m=\u001b[0m \u001b[0mimg\u001b[0m\u001b[1;33m.\u001b[0m\u001b[0mresize\u001b[0m\u001b[1;33m(\u001b[0m\u001b[1;33m(\u001b[0m\u001b[1;36m500\u001b[0m\u001b[1;33m,\u001b[0m\u001b[1;36m500\u001b[0m\u001b[1;33m)\u001b[0m\u001b[1;33m)\u001b[0m\u001b[1;33m\u001b[0m\u001b[1;33m\u001b[0m\u001b[0m\n\u001b[0;32m      6\u001b[0m \u001b[0mx\u001b[0m\u001b[1;33m=\u001b[0m\u001b[0mnp\u001b[0m\u001b[1;33m.\u001b[0m\u001b[0mndarray\u001b[0m\u001b[1;33m(\u001b[0m\u001b[1;33m(\u001b[0m\u001b[1;36m500\u001b[0m\u001b[1;33m,\u001b[0m\u001b[1;36m500\u001b[0m\u001b[1;33m,\u001b[0m\u001b[1;36m3\u001b[0m\u001b[1;33m)\u001b[0m\u001b[1;33m,\u001b[0m \u001b[0mdtype\u001b[0m\u001b[1;33m=\u001b[0m\u001b[0mnp\u001b[0m\u001b[1;33m.\u001b[0m\u001b[0mshort\u001b[0m\u001b[1;33m)\u001b[0m\u001b[1;33m\u001b[0m\u001b[1;33m\u001b[0m\u001b[0m\n\u001b[1;32m----> 7\u001b[1;33m \u001b[0mimg0\u001b[0m \u001b[1;33m=\u001b[0m \u001b[0mImage\u001b[0m\u001b[1;33m.\u001b[0m\u001b[0mfromarray\u001b[0m\u001b[1;33m(\u001b[0m\u001b[0mx\u001b[0m\u001b[1;33m)\u001b[0m\u001b[1;33m\u001b[0m\u001b[1;33m\u001b[0m\u001b[0m\n\u001b[0m",
      "\u001b[1;32m~\\AppData\\Roaming\\Python\\Python39\\site-packages\\PIL\\Image.py\u001b[0m in \u001b[0;36mfromarray\u001b[1;34m(obj, mode)\u001b[0m\n\u001b[0;32m   2828\u001b[0m             \u001b[0mmode\u001b[0m\u001b[1;33m,\u001b[0m \u001b[0mrawmode\u001b[0m \u001b[1;33m=\u001b[0m \u001b[0m_fromarray_typemap\u001b[0m\u001b[1;33m[\u001b[0m\u001b[0mtypekey\u001b[0m\u001b[1;33m]\u001b[0m\u001b[1;33m\u001b[0m\u001b[1;33m\u001b[0m\u001b[0m\n\u001b[0;32m   2829\u001b[0m         \u001b[1;32mexcept\u001b[0m \u001b[0mKeyError\u001b[0m \u001b[1;32mas\u001b[0m \u001b[0me\u001b[0m\u001b[1;33m:\u001b[0m\u001b[1;33m\u001b[0m\u001b[1;33m\u001b[0m\u001b[0m\n\u001b[1;32m-> 2830\u001b[1;33m             \u001b[1;32mraise\u001b[0m \u001b[0mTypeError\u001b[0m\u001b[1;33m(\u001b[0m\u001b[1;34m\"Cannot handle this data type: %s, %s\"\u001b[0m \u001b[1;33m%\u001b[0m \u001b[0mtypekey\u001b[0m\u001b[1;33m)\u001b[0m \u001b[1;32mfrom\u001b[0m \u001b[0me\u001b[0m\u001b[1;33m\u001b[0m\u001b[1;33m\u001b[0m\u001b[0m\n\u001b[0m\u001b[0;32m   2831\u001b[0m     \u001b[1;32melse\u001b[0m\u001b[1;33m:\u001b[0m\u001b[1;33m\u001b[0m\u001b[1;33m\u001b[0m\u001b[0m\n\u001b[0;32m   2832\u001b[0m         \u001b[0mrawmode\u001b[0m \u001b[1;33m=\u001b[0m \u001b[0mmode\u001b[0m\u001b[1;33m\u001b[0m\u001b[1;33m\u001b[0m\u001b[0m\n",
      "\u001b[1;31mTypeError\u001b[0m: Cannot handle this data type: (1, 1, 3), <i2"
     ]
    }
   ],
   "source": [
    "from PIL import Image\n",
    "import numpy as np\n",
    "\n",
    "img = Image.open(\"bla.jpg\")\n",
    "img = img.resize((500,500))\n",
    "x=np.ndarray((500,500,3), dtype=np.short)\n",
    "img0 = Image.fromarray(x)"
   ]
  }
 ],
 "metadata": {
  "interpreter": {
   "hash": "65d87dbd84d6699b6249583833f5a2128eb89a67d50c6406a8848397791798e4"
  },
  "kernelspec": {
   "display_name": "Python 3.9.0 64-bit ('tf2.6.0': conda)",
   "name": "python3"
  },
  "language_info": {
   "codemirror_mode": {
    "name": "ipython",
    "version": 3
   },
   "file_extension": ".py",
   "mimetype": "text/x-python",
   "name": "python",
   "nbconvert_exporter": "python",
   "pygments_lexer": "ipython3",
   "version": "3.9.0"
  }
 },
 "nbformat": 4,
 "nbformat_minor": 5
}
