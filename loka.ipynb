{
 "cells": [
  {
   "cell_type": "markdown",
   "id": "7d94db90",
   "metadata": {},
   "source": [
    "# REI505M Machine Learning - Final project\n",
    "### Due: --------\n",
    "\n",
    "**Names**: Axel Kristján Axelsson, Bjarni Haukur Bjarnason <br />\n",
    "**Email**: aka30@hi.is, bhb23@hi.is"
   ]
  },
  {
   "cell_type": "markdown",
   "id": "706ad1d8",
   "metadata": {},
   "source": [
    "**1. Image classification**\n",
    "\n",
    "s\n"
   ]
  },
  {
   "cell_type": "code",
   "execution_count": 3,
   "id": "e9288b6b",
   "metadata": {},
   "outputs": [],
   "source": [
    "import numpy as np\n",
    "from sklearn.model_selection import train_test_split\n",
    "from PIL import Image\n",
    "\n",
    "from data_loader import MyDataLoader\n",
    "from nn_helper import save_model, load_model\n",
    "\n",
    "\n",
    "%load_ext autoreload \n",
    "%autoreload 2\n",
    "\n",
    "norm = (128,128)\n",
    "\n",
    "dl = MyDataLoader(\"combine2\", norm)"
   ]
  },
  {
   "cell_type": "code",
   "execution_count": 26,
   "id": "ee46fb8f",
   "metadata": {},
   "outputs": [
    {
     "name": "stderr",
     "output_type": "stream",
     "text": [
      "100%|██████████| 102/102 [00:56<00:00,  1.81it/s]\n",
      "100%|██████████| 102/102 [01:30<00:00,  1.12it/s]\n"
     ]
    }
   ],
   "source": [
    "dl.normalize_train_data(norm_size=norm)\n",
    "\n",
    "try:\n",
    "    del X\n",
    "    del y\n",
    "\n",
    "except:\n",
    "    pass\n",
    "\n",
    "X, y = dl.get_lab_data()\n",
    "dl.numpy_dump(X, \"X\")\n",
    "dl.numpy_dump(y, \"y\")"
   ]
  },
  {
   "cell_type": "code",
   "execution_count": 15,
   "id": "3b32dfdd",
   "metadata": {},
   "outputs": [],
   "source": [
    "# X = np.squeeze(dl.numpy_load(\"X\"))\n",
    "X = dl.numpy_load(\"X\")\n",
    "y = dl.numpy_load(\"y\")\n",
    "X_lab = X/100\n",
    "y_lab = y/128"
   ]
  },
  {
   "cell_type": "code",
   "execution_count": 40,
   "id": "a2d5beec",
   "metadata": {},
   "outputs": [
    {
     "name": "stdout",
     "output_type": "stream",
     "text": [
      "(11636, 128, 128, 1)\n",
      "(11636, 128, 128, 2)\n",
      "1.0\n",
      "0.7578125\n",
      "0.0\n",
      "-0.8359375\n"
     ]
    }
   ],
   "source": [
    "print(X_lab.shape)\n",
    "print(y_lab.shape)\n",
    "print(np.max(X_lab))\n",
    "print(np.max(y_lab))\n",
    "print(np.min(X_lab))\n",
    "print(np.min(y_lab))"
   ]
  },
  {
   "cell_type": "code",
   "execution_count": 16,
   "id": "2cc19a1b",
   "metadata": {},
   "outputs": [],
   "source": [
    "X_train, X_test, y_train, y_test = train_test_split(X_lab, y_lab, test_size = 0.3, random_state = 3)\n",
    "X_test, X_val, y_test, y_val = train_test_split(X_test, y_test, test_size = 0.33, random_state = 3)"
   ]
  },
  {
   "cell_type": "code",
   "execution_count": 27,
   "id": "d4e49d56",
   "metadata": {},
   "outputs": [
    {
     "name": "stderr",
     "output_type": "stream",
     "text": [
      "C:\\Users\\bjarn\\AppData\\Roaming\\Python\\Python39\\site-packages\\skimage\\color\\colorconv.py:1109: UserWarning: Color data out of range: Z < 0 in 28 pixels\n",
      "  return xyz2rgb(lab2xyz(lab, illuminant, observer))\n"
     ]
    }
   ],
   "source": [
    "model = load_model(\"model_a\")\n",
    "\n",
    "canvas = np.zeros((100,128,128,3))\n",
    "pred = model.predict(X_test)\n",
    "canvas[:,:,:,0] = X_test[:100,:,:,0]*100\n",
    "canvas[:,:,:,1:] = pred[:100,:,:]*128\n",
    "\n",
    "canvas = color.lab2rgb(canvas)*255\n",
    "canvas = canvas.astype(np.uint8)\n"
   ]
  },
  {
   "cell_type": "code",
   "execution_count": 30,
   "id": "2157a8d3",
   "metadata": {},
   "outputs": [
    {
     "name": "stdout",
     "output_type": "stream",
     "text": [
      "255\n",
      "0\n"
     ]
    }
   ],
   "source": [
    "img = Image.fromarray(canvas[5])\n",
    "print(np.max(img))\n",
    "print(np.min(img))\n",
    "img.show()"
   ]
  },
  {
   "cell_type": "code",
   "execution_count": 6,
   "id": "f90ebcdb",
   "metadata": {},
   "outputs": [
    {
     "name": "stdout",
     "output_type": "stream",
     "text": [
      "1067581584\n"
     ]
    }
   ],
   "source": [
    "#keras.backend.clear_session()"
   ]
  },
  {
   "cell_type": "code",
   "execution_count": 7,
   "id": "be5f0504",
   "metadata": {},
   "outputs": [],
   "source": [
    "from tensorflow.keras.optimizers.schedules import PolynomialDecay\n",
    "from tensorflow.keras.optimizers import Adam\n",
    "\n",
    "\n",
    "\n",
    "\n",
    "from neural_nets import NeuralNets\n",
    "\n",
    "nn = NeuralNets(norm)\n",
    "\n",
    "\n",
    "# model = load_model(\"model_a\")\n",
    "model = nn.model_a()\n",
    "\n",
    "\n",
    "opt = Adam(learning_rate=1e-3)\n",
    "\n",
    "model.compile(optimizer=opt, loss='mse')\n",
    "\n",
    "# img_shape = (128, 128, 1)\n",
    "# kernel_size = (3,3)\n",
    "# num_filters = 64\n",
    "\n",
    "\n",
    "# model = Sequential()\n",
    "# model.add(InputLayer(input_shape=img_shape))\n",
    "# model.add(Conv2D(num_filters, kernel_size, activation='relu', padding='same'))\n",
    "# model.add(Conv2D(num_filters, kernel_size, activation='relu', padding='same', strides=2))\n",
    "# model.add(Conv2D(num_filters*2, kernel_size, activation='relu', padding='same'))\n",
    "# model.add(Conv2D(num_filters*2, kernel_size, activation='relu', padding='same', strides=2))\n",
    "# model.add(Conv2D(num_filters*4, kernel_size, activation='relu', padding='same'))\n",
    "# model.add(Conv2D(num_filters*4, kernel_size, activation='relu', padding='same', strides=2))\n",
    "# model.add(Conv2D(num_filters*8, kernel_size, activation='relu', padding='same'))\n",
    "# model.add(Conv2D(num_filters*4, kernel_size, activation='relu', padding='same'))\n",
    "# model.add(Conv2D(num_filters*2, kernel_size, activation='relu', padding='same'))\n",
    "# model.add(UpSampling2D((2, 2)))\n",
    "# model.add(Conv2D(num_filters, kernel_size, activation='relu', padding='same'))\n",
    "# model.add(UpSampling2D((2, 2)))\n",
    "# model.add(Conv2D(32, kernel_size, activation='relu', padding='same'))\n",
    "# model.add(Conv2D(2, kernel_size, activation='sigmoid', padding='same'))\n",
    "\n",
    "# opt = Adam(learning_rate=1e-3)\n",
    "# model.compile(optimizer=opt, loss='mse')"
   ]
  },
  {
   "cell_type": "code",
   "execution_count": 8,
   "id": "192b8ea3",
   "metadata": {},
   "outputs": [
    {
     "name": "stdout",
     "output_type": "stream",
     "text": [
      "Epoch 1/3\n",
      "128/128 [==============================] - 32s 200ms/step - loss: 0.0457\n",
      "Epoch 2/3\n",
      "128/128 [==============================] - 23s 180ms/step - loss: 0.0383\n",
      "Epoch 3/3\n",
      "128/128 [==============================] - 22s 176ms/step - loss: 0.0383\n",
      "INFO:tensorflow:Assets written to: model_a\\assets\n"
     ]
    }
   ],
   "source": [
    "num_epochs = 1\n",
    "nr = 42\n",
    "canvas = np.zeros((128,128,3))\n",
    "for i in range(num_epochs):\n",
    "    model.fit(X_train, y_train, batch_size = 64, epochs = 3)\n",
    "    \n",
    "\n",
    "save_model(model, \"model_a\", brave=True)"
   ]
  },
  {
   "cell_type": "code",
   "execution_count": 18,
   "id": "6d05fa8b",
   "metadata": {},
   "outputs": [
    {
     "name": "stdout",
     "output_type": "stream",
     "text": [
      "(128, 128, 1)\n"
     ]
    }
   ],
   "source": [
    "nr42 = X_test[42]\n",
    "print(nr42.shape)\n",
    "bla = np.expand_dims(X_test[42], axis=0)\n",
    "\n",
    "\n",
    "\n",
    "pred = model.predict(bla)\n",
    "pred = pred*128\n",
    "canvas[:,:,0] = bla[:,:,0]*100\n",
    "canvas[:,:,1:] = pred\n",
    "canvas = canvas.astype(np.uint8)\n",
    "img = Image.fromarray(canvas)\n",
    "img.save(\"mynd42.png\")"
   ]
  },
  {
   "cell_type": "code",
   "execution_count": 11,
   "id": "ef9e7423",
   "metadata": {},
   "outputs": [
    {
     "name": "stdout",
     "output_type": "stream",
     "text": [
      "(128, 128, 1)\n"
     ]
    }
   ],
   "source": [
    "nr = 42\n",
    "print(X_test[nr].shape)\n",
    "# canvas = np.zeros((128,128,3))\n",
    "pred = model.predict(X_test)\n",
    "# pred = pred*128\n",
    "# canvas[:,:,0] = X_test[nr,:,:,0]*100\n",
    "# canvas[:,:,1:] = pred[nr]\n",
    "# canvas = canvas.astype(np.uint8)\n",
    "# img = Image.fromarray(canvas)\n",
    "# img.save(\"mynd\" + i + \".png\")"
   ]
  },
  {
   "cell_type": "code",
   "execution_count": 16,
   "id": "cc86c1df",
   "metadata": {},
   "outputs": [
    {
     "name": "stdout",
     "output_type": "stream",
     "text": [
      "(128, 128, 1)\n"
     ]
    }
   ],
   "source": [
    "nr = 42\n",
    "print(X_test[nr].shape)\n",
    "canvas = np.zeros((128,128,3))\n",
    "predNr = pred[nr]*128\n",
    "canvas[:,:,0] = X_test[nr,:,:,0]*100\n",
    "canvas[:,:,1:] = predNr[nr]\n",
    "canvas = canvas.astype(np.uint8)\n",
    "img = Image.fromarray(canvas)\n",
    "img.save(\"mynd1.png\")"
   ]
  },
  {
   "cell_type": "code",
   "execution_count": null,
   "id": "6e16281c",
   "metadata": {},
   "outputs": [],
   "source": [
    "from PIL import Image\n",
    "\n",
    "canvas = np.zeros((128,128,3))\n",
    "\n",
    "nr = 10\n",
    "\n",
    "canvas[:,:,0] = X_test[nr,:,:,0]*100\n",
    "canvas[:,:,1:] = pred[nr]\n",
    "canvas = canvas.astype(np.uint8)\n",
    "\n",
    "img = Image.fromarray(canvas)\n",
    "img.show()"
   ]
  },
  {
   "cell_type": "code",
   "execution_count": null,
   "id": "68559835",
   "metadata": {},
   "outputs": [],
   "source": [
    "\n",
    "mynd = pred[1]\n",
    "fokking = np.zeros((128,128,3))\n",
    "print(X_test[1].shape)\n",
    "fokking[:,:,0] = X_test[1]\n",
    "fokking[:,:,1:] = mynd\n",
    "fokking = fokking.astype(int)\n",
    "print(np.max(fokking))\n",
    "print(np.min(fokking))"
   ]
  },
  {
   "cell_type": "code",
   "execution_count": null,
   "id": "f109ae24",
   "metadata": {},
   "outputs": [],
   "source": [
    "import numpy as np\n",
    "\n",
    "print(X.shape)\n",
    "print(y.shape)\n",
    "print(np.max(X))\n",
    "print(np.min(X))\n",
    "print(np.max(y))\n",
    "print(np.min(y))"
   ]
  },
  {
   "cell_type": "code",
   "execution_count": null,
   "id": "50bfef92",
   "metadata": {},
   "outputs": [],
   "source": [
    "from PIL import Image\n",
    "\n",
    "img = Image.fromarray(drasl)\n",
    "\n",
    "imgO = Image.fromarray(X_test[1])\n",
    "# imgTrue = Image.fromarray(y_test[1], 'RGB')\n",
    "# img = Image.fromarray(mynd1, 'RGB')\n",
    "imgO.show()\n",
    "# imgTrue.show()\n",
    "img.show()"
   ]
  },
  {
   "cell_type": "code",
   "execution_count": null,
   "id": "133d5294",
   "metadata": {},
   "outputs": [],
   "source": [
    "import tensorflow as tf\n",
    "print(\"Num GPUs Available: \", len(tf.config.list_physical_devices('GPU')))\n"
   ]
  },
  {
   "cell_type": "code",
   "execution_count": null,
   "id": "77385443",
   "metadata": {},
   "outputs": [],
   "source": [
    "print(X.shape)\n",
    "print(X[11001])\n"
   ]
  },
  {
   "cell_type": "code",
   "execution_count": null,
   "id": "cf2dc018",
   "metadata": {},
   "outputs": [],
   "source": [
    "\n",
    "\n",
    "# print(X.shape)\n",
    "# print(X_test.shape)\n",
    "# im = Image.fromarray(X_train[0], mode=\"YCbCr\")\n",
    "# im.show()\n",
    "# print(X_test[0])"
   ]
  },
  {
   "cell_type": "code",
   "execution_count": 14,
   "id": "3c32b053",
   "metadata": {},
   "outputs": [],
   "source": [
    "from PIL import Image\n",
    "import numpy as np\n",
    "from skimage import color\n",
    "\n",
    "img = Image.open(\"test.jpg\")\n",
    "img = img.resize((500,500))\n",
    "\n",
    "arr1 = np.array(img)\n",
    "arr2 = color.rgb2lab(img)\n",
    "\n",
    "canvas = np.zeros((500,500,3))\n",
    "canvas[:,:,0] = arr2[:,:,0]/100\n",
    "canvas[:,:,1:] = arr2[:,:,1:]/128\n",
    "\n",
    "canvas[:,:,0]  = canvas[:,:,0]*100\n",
    "canvas[:,:,1:] = canvas[:,:,1:]*128\n",
    "\n",
    "canvas = color.lab2rgb(canvas)*255\n",
    "canvas = canvas.astype(np.uint8)\n",
    "canvas = Image.fromarray(canvas)\n",
    "\n",
    "arr3 = color.lab2rgb(color.rgb2lab(img))*255\n",
    "\n",
    "img1 = Image.fromarray(arr1)\n",
    "img2 = Image.fromarray(arr2.astype(np.uint8))\n",
    "img3 = Image.fromarray(arr3.astype(np.uint8))\n",
    "\n",
    "img1.save(\"img1.jpg\")\n",
    "img2.save(\"img2.jpg\")\n",
    "img3.save(\"img3.jpg\")\n",
    "canvas.save(\"canvas.jpg\")\n",
    "# print(arr1.shape)\n",
    "# print(arr2.shape)\n",
    "# print(arr1[0,0,0])\n",
    "# print(arr2[0,0,0])\n",
    "# print(type(arr1[0,0,0]))\n",
    "# print(type(arr2[0,0,0]))\n",
    "\n",
    "# arr2 = arr2.astype(np.uint8)\n",
    "\n",
    "\n",
    "\n",
    "# print(type(arr1[0,0,0]))\n",
    "# print(type(arr2[0,0,0]))\n",
    "\n",
    "# print((arr1!=arr2).sum()/float(arr1.size))\n",
    "\n",
    "# img1.show()\n",
    "# img2.show()"
   ]
  },
  {
   "cell_type": "code",
   "execution_count": null,
   "id": "ab068f52",
   "metadata": {},
   "outputs": [],
   "source": [
    "from PIL import Image\n",
    "import numpy as np\n",
    "\n",
    "img = Image.open(\"test.jpg\")\n",
    "img = img.resize((500,500))\n",
    "img.show()"
   ]
  }
 ],
 "metadata": {
  "interpreter": {
   "hash": "65d87dbd84d6699b6249583833f5a2128eb89a67d50c6406a8848397791798e4"
  },
  "kernelspec": {
   "display_name": "Python 3.9.0 64-bit ('tf2.6.0': conda)",
   "name": "python3"
  },
  "language_info": {
   "codemirror_mode": {
    "name": "ipython",
    "version": 3
   },
   "file_extension": ".py",
   "mimetype": "text/x-python",
   "name": "python",
   "nbconvert_exporter": "python",
   "pygments_lexer": "ipython3",
   "version": "3.9.0"
  }
 },
 "nbformat": 4,
 "nbformat_minor": 5
}
