{
 "cells": [
  {
   "cell_type": "markdown",
   "id": "7d94db90",
   "metadata": {},
   "source": [
    "# REI505M Machine Learning - Final project\n",
    "### Due: --------\n",
    "\n",
    "**Names**: Axel Kristján Axelsson, Bjarni Haukur Bjarnason <br />\n",
    "**Email**: aka30@hi.is, bhb23@hi.is"
   ]
  },
  {
   "cell_type": "markdown",
   "id": "706ad1d8",
   "metadata": {},
   "source": [
    "**1. Image classification**\n",
    "\n",
    "s\n"
   ]
  },
  {
   "cell_type": "code",
   "execution_count": 1,
   "id": "e9288b6b",
   "metadata": {},
   "outputs": [],
   "source": [
    "import numpy as np\n",
    "from sklearn.model_selection import train_test_split\n",
    "from PIL import Image\n",
    "import tensorflow as tf\n",
    "\n",
    "from data_loader import MyDataLoader\n",
    "from neural_nets import NeuralNets\n",
    "from helper_funcs import *\n",
    "\n",
    "\n",
    "%load_ext autoreload \n",
    "%autoreload 2\n",
    "\n",
    "norm = (128,128)\n",
    "\n",
    "dl = MyDataLoader(\"combine2\", norm)\n",
    "nn = NeuralNets(norm)"
   ]
  },
  {
   "cell_type": "code",
   "execution_count": 9,
   "id": "ee46fb8f",
   "metadata": {},
   "outputs": [
    {
     "name": "stderr",
     "output_type": "stream",
     "text": [
      "100%|██████████| 102/102 [00:52<00:00,  1.95it/s]\n",
      "100%|██████████| 102/102 [01:29<00:00,  1.15it/s]\n"
     ]
    }
   ],
   "source": [
    "dl.normalize_train_data(norm_size=norm)\n",
    "\n",
    "try:\n",
    "    del X\n",
    "    del y\n",
    "\n",
    "except:\n",
    "    pass\n",
    "\n",
    "X, y = dl.get_lab_data()\n",
    "dl.numpy_dump(X, \"X\")\n",
    "dl.numpy_dump(y, \"y\")"
   ]
  },
  {
   "cell_type": "code",
   "execution_count": 2,
   "id": "3b32dfdd",
   "metadata": {},
   "outputs": [],
   "source": [
    "# X = np.squeeze(dl.numpy_load(\"X\"))\n",
    "X = dl.numpy_load(\"X\") # 0-1\n",
    "y = dl.numpy_load(\"y\") # -1 - 1"
   ]
  },
  {
   "cell_type": "code",
   "execution_count": 3,
   "id": "5ff7d8bc",
   "metadata": {},
   "outputs": [],
   "source": [
    "X_lab = X\n",
    "y_lab = map_to(y)"
   ]
  },
  {
   "cell_type": "code",
   "execution_count": 4,
   "id": "a2d5beec",
   "metadata": {},
   "outputs": [],
   "source": [
    "X_train, X_test, y_train, y_test = train_test_split(X_lab, y_lab, test_size = 0.3, random_state = 3)\n",
    "X_test, X_val, y_test, y_val = train_test_split(X_test, y_test, test_size = 0.33, random_state = 3)"
   ]
  },
  {
   "cell_type": "code",
   "execution_count": 11,
   "id": "d4e49d56",
   "metadata": {},
   "outputs": [
    {
     "name": "stdout",
     "output_type": "stream",
     "text": [
      "Epoch 1/30\n",
      "128/128 [==============================] - 7s 48ms/step - loss: 0.0051 - val_loss: 0.0064\n",
      "Epoch 2/30\n",
      "128/128 [==============================] - 5s 41ms/step - loss: 0.0051 - val_loss: 0.0064\n",
      "Epoch 3/30\n",
      "128/128 [==============================] - 5s 41ms/step - loss: 0.0050 - val_loss: 0.0064\n",
      "Epoch 4/30\n",
      "128/128 [==============================] - 5s 41ms/step - loss: 0.0050 - val_loss: 0.0064\n",
      "Epoch 5/30\n",
      "128/128 [==============================] - 5s 41ms/step - loss: 0.0050 - val_loss: 0.0065\n",
      "Epoch 6/30\n",
      "128/128 [==============================] - 5s 39ms/step - loss: 0.0050 - val_loss: 0.0065\n",
      "Epoch 7/30\n",
      "128/128 [==============================] - 5s 39ms/step - loss: 0.0050 - val_loss: 0.0064\n",
      "Epoch 8/30\n",
      "128/128 [==============================] - 5s 38ms/step - loss: 0.0050 - val_loss: 0.0065\n",
      "Epoch 9/30\n",
      "128/128 [==============================] - 5s 40ms/step - loss: 0.0050 - val_loss: 0.0065\n",
      "Epoch 10/30\n",
      "128/128 [==============================] - 5s 36ms/step - loss: 0.0049 - val_loss: 0.0065\n",
      "Epoch 11/30\n",
      "128/128 [==============================] - 5s 40ms/step - loss: 0.0049 - val_loss: 0.0065\n",
      "Epoch 12/30\n",
      "128/128 [==============================] - 7s 51ms/step - loss: 0.0049 - val_loss: 0.0065\n",
      "Epoch 13/30\n",
      "128/128 [==============================] - 5s 36ms/step - loss: 0.0049 - val_loss: 0.0065\n",
      "Epoch 14/30\n",
      "128/128 [==============================] - 5s 36ms/step - loss: 0.0049 - val_loss: 0.0065\n",
      "Epoch 15/30\n",
      "128/128 [==============================] - 5s 36ms/step - loss: 0.0049 - val_loss: 0.0065\n",
      "Epoch 16/30\n",
      "128/128 [==============================] - 5s 35ms/step - loss: 0.0049 - val_loss: 0.0065\n",
      "Epoch 17/30\n",
      "128/128 [==============================] - 5s 36ms/step - loss: 0.0049 - val_loss: 0.0065\n",
      "Epoch 18/30\n",
      "128/128 [==============================] - 5s 36ms/step - loss: 0.0049 - val_loss: 0.0066\n",
      "Epoch 19/30\n",
      "128/128 [==============================] - 4s 34ms/step - loss: 0.0049 - val_loss: 0.0066\n",
      "Epoch 20/30\n",
      "128/128 [==============================] - 4s 33ms/step - loss: 0.0048 - val_loss: 0.0065\n",
      "Epoch 21/30\n",
      "128/128 [==============================] - 4s 34ms/step - loss: 0.0048 - val_loss: 0.0066\n",
      "Epoch 22/30\n",
      "128/128 [==============================] - 4s 32ms/step - loss: 0.0048 - val_loss: 0.0066\n",
      "Epoch 23/30\n",
      "128/128 [==============================] - 4s 34ms/step - loss: 0.0048 - val_loss: 0.0066\n",
      "Epoch 24/30\n",
      "128/128 [==============================] - 5s 35ms/step - loss: 0.0048 - val_loss: 0.0066\n",
      "Epoch 25/30\n",
      "128/128 [==============================] - 4s 34ms/step - loss: 0.0048 - val_loss: 0.0067\n",
      "Epoch 26/30\n",
      "128/128 [==============================] - 4s 34ms/step - loss: 0.0048 - val_loss: 0.0066\n",
      "Epoch 27/30\n",
      "128/128 [==============================] - 5s 36ms/step - loss: 0.0048 - val_loss: 0.0066\n",
      "Epoch 28/30\n",
      "128/128 [==============================] - 7s 53ms/step - loss: 0.0048 - val_loss: 0.0066\n",
      "Epoch 29/30\n",
      "128/128 [==============================] - 5s 36ms/step - loss: 0.0048 - val_loss: 0.0067\n",
      "Epoch 30/30\n",
      "128/128 [==============================] - 5s 36ms/step - loss: 0.0048 - val_loss: 0.0066\n"
     ]
    },
    {
     "data": {
      "text/plain": [
       "<keras.callbacks.History at 0x1c4fe574b80>"
      ]
     },
     "execution_count": 11,
     "metadata": {},
     "output_type": "execute_result"
    }
   ],
   "source": [
    "# from random import randint\n",
    "from tensorflow.keras.optimizers import *\n",
    "from tensorflow.keras.losses import *\n",
    "\n",
    "# ?GANS svona\n",
    "# gpu_options = tf.compat.v1.GPUOptions(per_process_gpu_memory_fraction=0.6)\n",
    "# sess = tf.compat.v1.Session(config=tf.compat.v1.ConfigProto(gpu_options=gpu_options))\n",
    "\n",
    "log_dir = \"logs/fit/\" + \"model_e\"\n",
    "tensorboard_callback = tf.keras.callbacks.TensorBoard(log_dir=log_dir, histogram_freq=1)\n",
    "\n",
    "model = load_model(\"model_e\")\n",
    "#model = nn.model_e()\n",
    "model.compile(optimizer=RMSprop(1e-4), loss=MeanSquaredError())\n",
    "\n",
    "\n",
    "\n",
    "model.fit(X_train, y_train, batch_size = 64, epochs = 30, validation_data=(X_val, y_val), callbacks=[tensorboard_callback])#, callbacks=[callback])\n",
    "#save_model(model, \"model_e\", brave=True)\n",
    "\n"
   ]
  },
  {
   "cell_type": "code",
   "execution_count": 12,
   "id": "38abd6b6",
   "metadata": {},
   "outputs": [
    {
     "name": "stderr",
     "output_type": "stream",
     "text": [
      "UsageError: Line magic function `%tensorboard` not found.\n"
     ]
    }
   ],
   "source": [
    "%tensorboard --logdir logs/fit/"
   ]
  },
  {
   "cell_type": "code",
   "execution_count": 13,
   "id": "306c7699",
   "metadata": {},
   "outputs": [
    {
     "name": "stderr",
     "output_type": "stream",
     "text": [
      "C:\\Users\\bjarn\\AppData\\Roaming\\Python\\Python39\\site-packages\\skimage\\color\\colorconv.py:1109: UserWarning: Color data out of range: Z < 0 in 6 pixels\n",
      "  return xyz2rgb(lab2xyz(lab, illuminant, observer))\n",
      "C:\\Users\\bjarn\\AppData\\Roaming\\Python\\Python39\\site-packages\\skimage\\color\\colorconv.py:1109: UserWarning: Color data out of range: Z < 0 in 9 pixels\n",
      "  return xyz2rgb(lab2xyz(lab, illuminant, observer))\n"
     ]
    }
   ],
   "source": [
    "rand_array = np.random.choice(X_test.shape[0], 11)\n",
    "pred = model.predict(X_test[rand_array])\n",
    "show_images(X_test[rand_array], map_from(pred))"
   ]
  },
  {
   "cell_type": "code",
   "execution_count": null,
   "id": "eba5793e",
   "metadata": {},
   "outputs": [],
   "source": [
    "print(X_lab.shape)\n",
    "print(y_lab.shape)\n",
    "print(np.max(X_lab))\n",
    "print(np.max(y_lab))\n",
    "print(np.min(X_lab))\n",
    "print(np.min(y_lab))\n"
   ]
  }
 ],
 "metadata": {
  "interpreter": {
   "hash": "65d87dbd84d6699b6249583833f5a2128eb89a67d50c6406a8848397791798e4"
  },
  "kernelspec": {
   "display_name": "Python 3.9.0 64-bit ('tf2.6.0': conda)",
   "name": "python3"
  },
  "language_info": {
   "codemirror_mode": {
    "name": "ipython",
    "version": 3
   },
   "file_extension": ".py",
   "mimetype": "text/x-python",
   "name": "python",
   "nbconvert_exporter": "python",
   "pygments_lexer": "ipython3",
   "version": "3.9.0"
  }
 },
 "nbformat": 4,
 "nbformat_minor": 5
}
